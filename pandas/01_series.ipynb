{
 "cells": [
  {
   "cell_type": "code",
   "execution_count": 3,
   "metadata": {},
   "outputs": [
    {
     "name": "stdout",
     "output_type": "stream",
     "text": [
      "0     1\n",
      "1     2\n",
      "2     3\n",
      "3     4\n",
      "4     5\n",
      "5     6\n",
      "6     7\n",
      "7     8\n",
      "8     9\n",
      "9    10\n",
      "dtype: int64\n",
      "<class 'pandas.core.series.Series'>\n",
      "2\n"
     ]
    },
    {
     "data": {
      "text/plain": [
       "a     1.0\n",
       "b     2.0\n",
       "c     3.0\n",
       "d     4.0\n",
       "e     5.0\n",
       "f     6.0\n",
       "g     7.0\n",
       "e     8.0\n",
       "f     9.0\n",
       "g    10.0\n",
       "Name: namedData, dtype: float64"
      ]
     },
     "execution_count": 3,
     "metadata": {},
     "output_type": "execute_result"
    }
   ],
   "source": [
    "#series\n",
    "import pandas as pd\n",
    "data = [1,2,3,4,5,6,7,8,9,10]\n",
    "dataset = pd.Series(data)\n",
    "print(dataset)\n",
    "print(type(dataset))\n",
    "print(dataset[1])\n",
    "# changes the values to float\n",
    "pd.Series(data,index=['a','b','c','d','e','f','g','e','f','g'],dtype=float,name=\"namedData\")"
   ]
  },
  {
   "cell_type": "code",
   "execution_count": 5,
   "metadata": {},
   "outputs": [
    {
     "data": {
      "text/plain": [
       "names    [Govind, Mohit, Bharat, Dhiraj]\n",
       "age                     [22, 21, 22, 22]\n",
       "dtype: object"
      ]
     },
     "execution_count": 5,
     "metadata": {},
     "output_type": "execute_result"
    }
   ],
   "source": [
    "#dictonary as series in pandas\n",
    "dct = {\"names\":[\"Govind\",\"Mohit\",\"Bharat\",\"Dhiraj\"],\"age\":[22,21,22,22]} \n",
    "pd.Series(dct)"
   ]
  },
  {
   "cell_type": "code",
   "execution_count": 6,
   "metadata": {},
   "outputs": [
    {
     "name": "stdout",
     "output_type": "stream",
     "text": [
      "0    12\n",
      "dtype: int64\n"
     ]
    }
   ],
   "source": [
    "value = pd.Series(12)\n",
    "print(value)"
   ]
  },
  {
   "cell_type": "code",
   "execution_count": 7,
   "metadata": {},
   "outputs": [
    {
     "name": "stdout",
     "output_type": "stream",
     "text": [
      "1    12\n",
      "2    12\n",
      "3    12\n",
      "4    12\n",
      "5    12\n",
      "6    12\n",
      "7    12\n",
      "8    12\n",
      "9    12\n",
      "dtype: int64\n"
     ]
    }
   ],
   "source": [
    "value = pd.Series(12,index=[1,2,3,4,5,6,7,8,9])\n",
    "print(value)"
   ]
  },
  {
   "cell_type": "code",
   "execution_count": 8,
   "metadata": {},
   "outputs": [
    {
     "name": "stdout",
     "output_type": "stream",
     "text": [
      "1    24.0\n",
      "2    24.0\n",
      "3    24.0\n",
      "4    24.0\n",
      "5    24.0\n",
      "6     NaN\n",
      "7     NaN\n",
      "8     NaN\n",
      "9     NaN\n",
      "dtype: float64\n"
     ]
    }
   ],
   "source": [
    "value1 = pd.Series(12,index=[1,2,3,4,5,6,7,8,9])\n",
    "value2 = pd.Series(12,index=[1,2,3,4,5])\n",
    "print(value1 + value2)"
   ]
  },
  {
   "cell_type": "code",
   "execution_count": null,
   "metadata": {},
   "outputs": [],
   "source": []
  }
 ],
 "metadata": {
  "kernelspec": {
   "display_name": "Python 3 (ipykernel)",
   "language": "python",
   "name": "python3"
  },
  "language_info": {
   "codemirror_mode": {
    "name": "ipython",
    "version": 3
   },
   "file_extension": ".py",
   "mimetype": "text/x-python",
   "name": "python",
   "nbconvert_exporter": "python",
   "pygments_lexer": "ipython3",
   "version": "3.11.7"
  }
 },
 "nbformat": 4,
 "nbformat_minor": 4
}
