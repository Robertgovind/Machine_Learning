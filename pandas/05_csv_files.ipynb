{
 "cells": [
  {
   "cell_type": "code",
   "execution_count": 6,
   "metadata": {},
   "outputs": [],
   "source": [
    "import pandas as pd"
   ]
  },
  {
   "cell_type": "code",
   "execution_count": 13,
   "metadata": {},
   "outputs": [
    {
     "name": "stdout",
     "output_type": "stream",
     "text": [
      "   a  b  f\n",
      "0  1  5  2\n",
      "1  2  6  5\n",
      "2  3  7  7\n",
      "3  4  8  9\n",
      "4  3  9  1\n"
     ]
    }
   ],
   "source": [
    "# Create csv files from given data\n",
    "dict = {\"a\":[1,2,3,4,3],\"b\":[5,6,7,8,9],\"f\":[2,5,7,9,1]}\n",
    "data = pd.DataFrame(dict)\n",
    "print(data)\n",
    "dataset = data.to_csv(\"testData2.csv\",index=False)"
   ]
  },
  {
   "cell_type": "code",
   "execution_count": null,
   "metadata": {},
   "outputs": [],
   "source": []
  }
 ],
 "metadata": {
  "kernelspec": {
   "display_name": "base",
   "language": "python",
   "name": "python3"
  },
  "language_info": {
   "codemirror_mode": {
    "name": "ipython",
    "version": 3
   },
   "file_extension": ".py",
   "mimetype": "text/x-python",
   "name": "python",
   "nbconvert_exporter": "python",
   "pygments_lexer": "ipython3",
   "version": "3.11.7"
  }
 },
 "nbformat": 4,
 "nbformat_minor": 2
}
